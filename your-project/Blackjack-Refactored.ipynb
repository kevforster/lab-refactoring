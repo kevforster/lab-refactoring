{
 "cells": [
  {
   "cell_type": "markdown",
   "metadata": {},
   "source": [
    "# Welcome to the Blackjack game"
   ]
  },
  {
   "cell_type": "markdown",
   "metadata": {},
   "source": [
    "In the following we will try to beat the dealer in a very simple game. To read the rules please go to README."
   ]
  },
  {
   "cell_type": "markdown",
   "metadata": {},
   "source": [
    "## Cards"
   ]
  },
  {
   "cell_type": "markdown",
   "metadata": {},
   "source": [
    "There are 52 cards in one set. In the casino more than one set is used. Although in this case we only use one set:"
   ]
  },
  {
   "cell_type": "markdown",
   "metadata": {},
   "source": [
    "<img src=\"images-1-4.jpeg\">"
   ]
  },
  {
   "cell_type": "code",
   "execution_count": 6,
   "metadata": {},
   "outputs": [
    {
     "name": "stdout",
     "output_type": "stream",
     "text": [
      "{'s-Ace': 11, 's-King': 10, 's-Queen': 10, 's-Jack': 10, 's-10': 10, 's-9': 9, 's-8': 8, 's-7': 7, 's-6': 6, 's-5': 5, 's-4': 4, 's-3': 3, 's-2': 2, 'c-Ace': 11, 'c-King': 10, 'c-Queen': 10, 'c-Jack': 10, 'c-10': 10, 'c-9': 9, 'c-8': 8, 'c-7': 7, 'c-6': 6, 'c-5': 5, 'c-4': 4, 'c-3': 3, 'c-2': 2, 'd-Ace': 11, 'd-King': 10, 'd-Queen': 10, 'd-Jack': 10, 'd-10': 10, 'd-9': 9, 'd-8': 8, 'd-7': 7, 'd-6': 6, 'd-5': 5, 'd-4': 4, 'd-3': 3, 'd-2': 2, 'h-Ace': 11, 'h-King': 10, 'h-Queen': 10, 'h-Jack': 10, 'h-10': 10, 'h-9': 9, 'h-8': 8, 'h-7': 7, 'h-6': 6, 'h-5': 5, 'h-4': 4, 'h-3': 3, 'h-2': 2}\n"
     ]
    }
   ],
   "source": [
    "#code to define all the cards\n",
    "cards = {\"s-Ace\":11, \"s-King\":10, \"s-Queen\":10, \"s-Jack\":10, \"s-10\":10, \"s-9\":9, \"s-8\":8, \"s-7\":7, \"s-6\":6, \"s-5\":5, \"s-4\":4, \"s-3\":3, \"s-2\":2, \"c-Ace\":11, \"c-King\":10, \"c-Queen\":10, \"c-Jack\":10, \"c-10\":10, \"c-9\":9, \"c-8\":8, \"c-7\":7, \"c-6\":6, \"c-5\":5, \"c-4\":4, \"c-3\":3, \"c-2\":2, \"d-Ace\":11, \"d-King\":10, \"d-Queen\":10, \"d-Jack\":10, \"d-10\":10, \"d-9\":9, \"d-8\":8, \"d-7\":7, \"d-6\":6, \"d-5\":5, \"d-4\":4, \"d-3\":3, \"d-2\":2, \"h-Ace\":11, \"h-King\":10, \"h-Queen\":10, \"h-Jack\":10, \"h-10\":10, \"h-9\":9, \"h-8\":8, \"h-7\":7, \"h-6\":6, \"h-5\":5, \"h-4\":4, \"h-3\":3, \"h-2\":2}\n",
    "print(cards)"
   ]
  },
  {
   "cell_type": "markdown",
   "metadata": {},
   "source": [
    "## First round"
   ]
  },
  {
   "cell_type": "markdown",
   "metadata": {},
   "source": [
    "In the first round the dealer will hand out 2 cards to the user. The dealer itself will get 1 card to give the user a hint what the hand of the dealer at the end could be. So summarised in this round gets:\n",
    "- the user 2 cards\n",
    "- the dealer 1 card"
   ]
  },
  {
   "cell_type": "markdown",
   "metadata": {},
   "source": [
    "<img src=\"Blackjack_game_1.jpg\">"
   ]
  },
  {
   "cell_type": "code",
   "execution_count": 7,
   "metadata": {},
   "outputs": [
    {
     "name": "stdout",
     "output_type": "stream",
     "text": [
      "Your first card is: c-3\n",
      "Your second card is: c-2\n",
      "This has a value of: 5\n",
      "The first card of the dealer is: h-Queen\n"
     ]
    }
   ],
   "source": [
    "#1st and 2nd card of the user\n",
    "\n",
    "import random\n",
    "\n",
    "#1st card\n",
    "first_card_user = random.choice(list(cards.keys()))\n",
    "print(\"Your first card is: \"+first_card_user)\n",
    "user_cards=[cards[first_card_user]]\n",
    "del cards[first_card_user]\n",
    "\n",
    "#2nd card\n",
    "second_card_user = random.choice(list(cards.keys()))\n",
    "print(\"Your second card is: \"+second_card_user)\n",
    "user_cards.append(cards[second_card_user])\n",
    "del cards[second_card_user]\n",
    "\n",
    "#special Ace rule\n",
    "if sum(user_cards) == 22:\n",
    "    user_cards[1]=1    \n",
    "\n",
    "#check, if the user has blackjack with the first two cards\n",
    "print(\"This has a value of: \" +str(sum(user_cards)))\n",
    "if sum(user_cards) == 21:\n",
    "    print(\"Congrats, you have blackjack and you won\")  \n",
    "    \n",
    "#dealer's card\n",
    "else:\n",
    "    first_card_dealer = random.choice(list(cards.keys()))\n",
    "    total_dealer=[cards[first_card_dealer]]\n",
    "    del cards[first_card_dealer]\n",
    "    print(\"The first card of the dealer is: \"+ first_card_dealer)\n",
    "    \n",
    "\n"
   ]
  },
  {
   "cell_type": "markdown",
   "metadata": {},
   "source": [
    "## Further user rounds"
   ]
  },
  {
   "cell_type": "markdown",
   "metadata": {},
   "source": [
    "After the user received 2 cards, he can decide how many more cards he wants to receive. He should be as close to 21 but not over it. And do not forget, the Ace can be used as 11 or 1! So summarised in this round:\n",
    "- user gets 1 card at a time\n",
    "- and decides if he wants another one\n",
    "- if he says \"stand\", the user will keep the points and does not want to have more cards"
   ]
  },
  {
   "cell_type": "markdown",
   "metadata": {},
   "source": [
    "<img src=\"Blackjack.jpg\">"
   ]
  },
  {
   "cell_type": "markdown",
   "metadata": {},
   "source": [
    "Refactoring:\n",
    "- Tried to give the question/answer a bit more structure. So it is easier to read for the user\n",
    "- used the furthercards fundction, to split the loop from the blackjack game process\n",
    "- challenge: i was not able to reduce much code"
   ]
  },
  {
   "cell_type": "code",
   "execution_count": 10,
   "metadata": {},
   "outputs": [
    {
     "name": "stdout",
     "output_type": "stream",
     "text": [
      "User has a toal of 21\n",
      "-----------------------\n",
      "Do you want another card? (Yes/No): No\n",
      "-----------------------\n",
      "Your Total is 21! Let us see what the dealer has!\n"
     ]
    }
   ],
   "source": [
    "#further cards of the user\n",
    "print(\"User has a toal of \" +str(sum(user_cards)))\n",
    "print(\"-----------------------\")\n",
    "card_decision=third_card_question=input(\"Do you want another card? (Yes/No): \")\n",
    "\n",
    "def furthercards(card_decision):\n",
    "        if card_decision==\"No\":\n",
    "            print(\"-----------------------\")\n",
    "            print(\"Your Total is \"+str(sum(user_cards))+\"! Let us see what the dealer has!\")\n",
    "        else:\n",
    "            third_card_user = random.choice(list(cards.keys()))\n",
    "            print(\"Your next card is: \" + str(third_card_user))\n",
    "            user_cards.append(cards[third_card_user])\n",
    "            del cards[third_card_user]\n",
    "            if sum(user_cards)>21:\n",
    "                for i in range(len(user_cards)):\n",
    "                    if user_cards[i]==11:\n",
    "                        user_cards[i]=1\n",
    "                        break\n",
    "            total=sum(user_cards)\n",
    "            print(\"This is a total of: \"+ str(total))\n",
    "            print(\"-----------------------\")\n",
    "            card_decision=third_card_question=input(\"Do you want another card? (Yes/No): \")\n",
    "            print(\"-----------------------\")\n",
    "            furthercards(card_decision)\n",
    "            \n",
    "    \n",
    "if sum(user_cards)<22:\n",
    "        furthercards(card_decision)\n",
    "\n",
    "#in case user has more than 21, he loses straight away\n",
    "total=sum(user_cards)        \n",
    "if sum(user_cards)>21:\n",
    "    print(\"Your Total is higher than 21, so you LOST!\")\n",
    "    \n",
    "\n"
   ]
  },
  {
   "cell_type": "markdown",
   "metadata": {},
   "source": [
    "## The dealers round"
   ]
  },
  {
   "cell_type": "markdown",
   "metadata": {},
   "source": [
    "The dealer now gets as many cards as he reaches more than 16. If he reaches 17 or more, he is not allowed to take another card. Summarised this round:\n",
    "- cards until a number > 16 is reached"
   ]
  },
  {
   "cell_type": "markdown",
   "metadata": {},
   "source": [
    "<img src=\"Blackjack_game_3.jpg\">"
   ]
  },
  {
   "cell_type": "code",
   "execution_count": null,
   "metadata": {},
   "outputs": [],
   "source": [
    "#Dealer\n",
    "\n",
    "#as long as dealer has a total <17 he has to take another card\n",
    "while sum(total_dealer)<17:\n",
    "    card_dealer = random.choice(list(cards.keys()))\n",
    "    total_dealer.append(cards[card_dealer])\n",
    "    del cards[card_dealer]\n",
    "    print(\"The next card of the dealer is: \"+card_dealer)\n",
    "    print (\"This is a total of: \"+str(sum(total_dealer)))\n",
    "    if sum(total_dealer)>21:\n",
    "        if 11 in total_dealer:\n",
    "            for i in range(len(total_dealer)):\n",
    "                if total_dealer[i]==11:\n",
    "                    total_dealer[i]=1\n",
    "                    break\n",
    "        else: print(\"The dealer has too much, you WON!\")\n",
    "    \n"
   ]
  },
  {
   "cell_type": "markdown",
   "metadata": {},
   "source": [
    "## The winner is"
   ]
  },
  {
   "cell_type": "markdown",
   "metadata": {},
   "source": [
    "- If the user has blackjack (A & 10-card), he wins straight away.\n",
    "- If the user has more than 21, he loses\n",
    "- If the bank has more than 21 and the user <21, the user wins\n",
    "- If the bank has the same amount as the user and both are below 21, it'd be a draw\n",
    "- If the user is closer to 21 than the bank, the user wins."
   ]
  },
  {
   "cell_type": "code",
   "execution_count": 5,
   "metadata": {
    "scrolled": false
   },
   "outputs": [
    {
     "name": "stdout",
     "output_type": "stream",
     "text": [
      "The dealer has a total of 20\n",
      "The user has a total of 20\n",
      "It's a DRAW!\n"
     ]
    }
   ],
   "source": [
    "#result\n",
    "print (\"The dealer has a total of \"+str(sum(total_dealer)))\n",
    "print (\"The user has a total of \"+ str(total))\n",
    "if sum(total_dealer)>21:\n",
    "    print(\"The dealer has more than 21. So you WON!\")\n",
    "elif sum(total_dealer)>total:\n",
    "    print(\"The dealer has more than you. You LOST!\")\n",
    "elif sum(total_dealer)<total:\n",
    "    print(\"You beat the dealer. You WON!\")\n",
    "elif sum(total_dealer)==total:\n",
    "    print(\"It's a DRAW!\")"
   ]
  },
  {
   "cell_type": "code",
   "execution_count": null,
   "metadata": {},
   "outputs": [],
   "source": []
  }
 ],
 "metadata": {
  "kernelspec": {
   "display_name": "Python 3",
   "language": "python",
   "name": "python3"
  },
  "language_info": {
   "codemirror_mode": {
    "name": "ipython",
    "version": 3
   },
   "file_extension": ".py",
   "mimetype": "text/x-python",
   "name": "python",
   "nbconvert_exporter": "python",
   "pygments_lexer": "ipython3",
   "version": "3.7.3"
  }
 },
 "nbformat": 4,
 "nbformat_minor": 2
}
